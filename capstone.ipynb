{
 "cells": [
  {
   "cell_type": "code",
   "execution_count": 1,
   "metadata": {},
   "outputs": [],
   "source": [
    "import numpy as np\n",
    "# import numpy as random\n",
    "from numpy import random"
   ]
  },
  {
   "cell_type": "code",
   "execution_count": 2,
   "metadata": {},
   "outputs": [
    {
     "name": "stdout",
     "output_type": "stream",
     "text": [
      "[[1 2 3]\n",
      " [4 5 6]\n",
      " [7 8 9]]\n"
     ]
    },
    {
     "data": {
      "text/plain": [
       "9"
      ]
     },
     "execution_count": 2,
     "metadata": {},
     "output_type": "execute_result"
    }
   ],
   "source": [
    "# Create and inspect Arrays\n",
    "first = np.arange(1,10)\n",
    "second = first.reshape((3,3))\n",
    "print(second)\n",
    "second.shape\n",
    "second.size"
   ]
  },
  {
   "cell_type": "code",
   "execution_count": 3,
   "metadata": {},
   "outputs": [],
   "source": [
    "# Indexing and slicing\n",
    "third = np.arange(1,17)\n",
    "fourth = third.reshape((4,4))\n",
    "\n",
    "first_value = np.flip(fourth[0])\n",
    "second_value = fourth[2]\n",
    "third_value = fourth[3]"
   ]
  },
  {
   "cell_type": "code",
   "execution_count": 4,
   "metadata": {},
   "outputs": [
    {
     "data": {
      "text/plain": [
       "105"
      ]
     },
     "execution_count": 4,
     "metadata": {},
     "output_type": "execute_result"
    }
   ],
   "source": [
    "# Array Operation\n",
    "fifth = np.arange(0,5)\n",
    "sixth = np.nditer(fifth)\n",
    "res_map = map(lambda a: a + 5 ,np.array(sixth))\n",
    "last_res_map = np.array(list(res_map)) \n",
    "last_res_map_2 = np.multiply(last_res_map, 3) \n",
    "np.sum(last_res_map_2).item()"
   ]
  },
  {
   "cell_type": "code",
   "execution_count": 5,
   "metadata": {},
   "outputs": [
    {
     "data": {
      "text/plain": [
       "150"
      ]
     },
     "execution_count": 5,
     "metadata": {},
     "output_type": "execute_result"
    }
   ],
   "source": [
    "# Statistical function\n",
    "seventh = np.arange(10, 60, 10)\n",
    "np.mean(seventh).item()\n",
    "np.max(seventh).item()\n",
    "np.min(seventh).item()\n",
    "np.sum(seventh).item()\n"
   ]
  },
  {
   "cell_type": "code",
   "execution_count": 6,
   "metadata": {},
   "outputs": [
    {
     "name": "stdout",
     "output_type": "stream",
     "text": [
      "[ 1  2  3  4  5  6  7  8  9 10 11 12]\n",
      "[[ 1  2  3  4]\n",
      " [ 5  6  7  8]\n",
      " [ 9 10 11 12]]\n",
      "[ 1  2  3  4  5  6  7  8  9 10 11 12]\n"
     ]
    }
   ],
   "source": [
    "# Reshape Arrays\n",
    "eighth = np.arange(1,13)\n",
    "print(eighth)\n",
    "res_value = eighth.reshape((3,4))\n",
    "print(res_value)\n",
    "res_value_2 = res_value.flatten()\n",
    "print(res_value_2)\n"
   ]
  },
  {
   "cell_type": "code",
   "execution_count": 7,
   "metadata": {},
   "outputs": [
    {
     "data": {
      "text/plain": [
       "array([[1., 0., 0.],\n",
       "       [0., 1., 0.],\n",
       "       [0., 0., 1.]])"
      ]
     },
     "execution_count": 7,
     "metadata": {},
     "output_type": "execute_result"
    }
   ],
   "source": [
    "# Create Arrays with Special Values\n",
    "\n",
    "np.zeros((4,4))\n",
    "np.ones((3,5))\n",
    "np.eye(3,3)"
   ]
  },
  {
   "cell_type": "code",
   "execution_count": 8,
   "metadata": {},
   "outputs": [
    {
     "data": {
      "text/plain": [
       "array([[16, 98, 33],\n",
       "       [46, 66,  5],\n",
       "       [18, 73, 45]])"
      ]
     },
     "execution_count": 8,
     "metadata": {},
     "output_type": "execute_result"
    }
   ],
   "source": [
    "# Random Arrays\n",
    "\n",
    "np.random.rand(5)\n",
    "np.random.randint(1,100, (3,3))\n"
   ]
  },
  {
   "cell_type": "code",
   "execution_count": 9,
   "metadata": {},
   "outputs": [
    {
     "name": "stdout",
     "output_type": "stream",
     "text": [
      "[3.  5.6 8.2 0.  0.  0. ]\n"
     ]
    }
   ],
   "source": [
    "# Boolean Indexing\n",
    "\n",
    "# np.random.randint(1,15,(1,5))\n",
    "# np.arange(6)\n",
    "nineth = np.linspace(3, 16, num=6)\n",
    "tenth = nineth[nineth > 9] = 0\n",
    "print(nineth)\n"
   ]
  },
  {
   "cell_type": "code",
   "execution_count": 10,
   "metadata": {},
   "outputs": [
    {
     "name": "stdout",
     "output_type": "stream",
     "text": [
      "[1 2 3 4 5]\n",
      "[ 6  7  8  9 10]\n",
      "0D\n",
      "42\n",
      "0\n",
      "1D\n",
      "[1 2 3 4 5]\n",
      "1\n",
      "2D\n",
      "[[1 2 3]\n",
      " [4 5 6]]\n",
      "2\n",
      "3D\n",
      "[[[1 2 3]\n",
      "  [4 5 6]]\n",
      "\n",
      " [[1 2 3]\n",
      "  [4 5 6]]]\n",
      "3\n",
      "[[[[[1 2 3 4 5]]]]]\n",
      "5\n"
     ]
    }
   ],
   "source": [
    "arr = np.array([1, 2, 3, 4, 5])\n",
    "print(arr)\n",
    "\n",
    "arr2 = np.array((6,7,8,9,10))\n",
    "print(arr2)\n",
    "\n",
    "# 0D\n",
    "arr3 = np.array(42)\n",
    "print(\"0D\")\n",
    "print(arr3)\n",
    "# print(type(arr3))\n",
    "print(arr3.ndim)\n",
    "\n",
    "# 1D\n",
    "arr4 = np.array([1, 2, 3, 4, 5])\n",
    "print(\"1D\")\n",
    "print(arr4)\n",
    "# print(type(arr4))\n",
    "print(arr4.ndim)\n",
    "\n",
    "# 2D\n",
    "arr5 = np.array([[1, 2, 3], [4, 5, 6]])\n",
    "print(\"2D\")\n",
    "print(arr5)\n",
    "# print(type(arr5))\n",
    "print(arr5.ndim)\n",
    "\n",
    "# 3D\n",
    "arr6 = np.array([[[1, 2, 3], [4, 5, 6]],[[1, 2, 3], [4, 5, 6]]])\n",
    "print(\"3D\")\n",
    "print(arr6)\n",
    "# print(type(arr6))\n",
    "print(arr6.ndim)\n",
    "\n",
    "\n",
    "arr7 = np.array([1,2,3,4,5], ndmin=5)\n",
    "print(arr7)\n",
    "# print(type(arr6))\n",
    "print(arr7.ndim)\n"
   ]
  },
  {
   "cell_type": "code",
   "execution_count": 11,
   "metadata": {},
   "outputs": [
    {
     "name": "stdout",
     "output_type": "stream",
     "text": [
      "[2 3]\n",
      "[3 4 5 6]\n",
      "[3 4 5]\n",
      "[2 4]\n"
     ]
    }
   ],
   "source": [
    "# Slicing \n",
    "arr8 = np.array([1, 2, 3, 4, 5, 6])\n",
    "print(arr8[1:3])\n",
    "print(arr8[2:])\n",
    "print(arr8[-4:-1])\n",
    "print(arr8[1:5:2])"
   ]
  },
  {
   "cell_type": "code",
   "execution_count": 12,
   "metadata": {},
   "outputs": [
    {
     "name": "stdout",
     "output_type": "stream",
     "text": [
      "int64\n"
     ]
    }
   ],
   "source": [
    "# DataType\n",
    "arr9 = np.array([1, 2, 3, 4, 5, 6])\n",
    "print(arr9.dtype)\n",
    "\n"
   ]
  },
  {
   "cell_type": "code",
   "execution_count": 13,
   "metadata": {},
   "outputs": [
    {
     "name": "stdout",
     "output_type": "stream",
     "text": [
      "[1 2 3 4 5 6]\n",
      "[50  2  3  4  5  6]\n"
     ]
    }
   ],
   "source": [
    "# copy and view\n",
    "\n",
    "arr10 = np.array([1, 2, 3, 4, 5, 6])\n",
    "x = arr10.copy()\n",
    "print(x)\n",
    "arr10[0] = 50\n",
    "print(arr10)"
   ]
  },
  {
   "cell_type": "code",
   "execution_count": 14,
   "metadata": {},
   "outputs": [
    {
     "name": "stdout",
     "output_type": "stream",
     "text": [
      "(2, 4)\n"
     ]
    }
   ],
   "source": [
    "# shape of array\n",
    "\n",
    "arr11 = np.array([[1, 2, 3, 4], [5, 6, 7, 8]])\n",
    "print(arr11.shape)"
   ]
  },
  {
   "cell_type": "code",
   "execution_count": 15,
   "metadata": {},
   "outputs": [
    {
     "name": "stdout",
     "output_type": "stream",
     "text": [
      "[array([1, 2]), array([3, 4]), array([5, 6])]\n"
     ]
    }
   ],
   "source": [
    "# Join array\n",
    "\n",
    "arr1 = np.array([1, 2, 3])\n",
    "\n",
    "arr2 = np.array([4, 5, 6])\n",
    "\n",
    "arr = np.hstack((arr1, arr2))\n",
    "\n",
    "newarr = np.array_split(arr, 3)\n",
    "print(newarr)"
   ]
  },
  {
   "cell_type": "code",
   "execution_count": 16,
   "metadata": {},
   "outputs": [
    {
     "name": "stdout",
     "output_type": "stream",
     "text": [
      "(array([0, 2, 4, 6]),)\n"
     ]
    }
   ],
   "source": [
    "# Searching \n",
    "arr = np.array([1, 2, 3, 4, 5, 6, 7, 8])\n",
    "# x = np.where(arr == 4)\n",
    "# print(x)\n",
    "\n",
    "y = np.where(arr % 2 == 1)\n",
    "print(y)"
   ]
  },
  {
   "cell_type": "code",
   "execution_count": 17,
   "metadata": {},
   "outputs": [
    {
     "name": "stdout",
     "output_type": "stream",
     "text": [
      "[[2 3 4]\n",
      " [0 1 5]]\n"
     ]
    }
   ],
   "source": [
    "# Sort\n",
    "arr = np.array([3, 2, 0, 1])\n",
    "\n",
    "arr = np.array(['banana', 'cherry', 'apple'])\n",
    "\n",
    "arr = np.array([[3, 2, 4], [5, 0, 1]])\n",
    "\n",
    "print(np.sort(arr))"
   ]
  },
  {
   "cell_type": "code",
   "execution_count": 18,
   "metadata": {},
   "outputs": [
    {
     "name": "stdout",
     "output_type": "stream",
     "text": [
      "[43 44]\n"
     ]
    }
   ],
   "source": [
    "# Filtering\n",
    "\n",
    "arr = np.array([41, 42, 43, 44])\n",
    "\n",
    "new_arr = []\n",
    "for i in arr:\n",
    "    # print(i)\n",
    "    if i > 42:\n",
    "        new_arr.append(True)\n",
    "    else : \n",
    "        new_arr.append(False)\n",
    "\n",
    "# print(new_arr)\n",
    "new_arr_2 =  arr[new_arr]\n",
    "print(new_arr_2)"
   ]
  },
  {
   "cell_type": "code",
   "execution_count": 19,
   "metadata": {},
   "outputs": [
    {
     "name": "stdout",
     "output_type": "stream",
     "text": [
      "[[7 5 7 7 7]\n",
      " [7 7 7 7 7]\n",
      " [7 5 7 7 7]]\n"
     ]
    }
   ],
   "source": [
    "# Random number\n",
    "\n",
    "x = np.random.randint(100)\n",
    "y = np.random.randint(100, size=5)\n",
    "z = np.random.rand(3, 5)\n",
    "\n",
    "x1 = np.random.choice([3, 5, 7, 9])\n",
    "x2 = np.random.choice([3, 5, 7, 9], size=(3, 5))\n",
    "\n",
    "x = np.random.choice([3, 5, 7, 9], p=[0.1, 0.3, 0.6, 0.0], size=(3, 5))\n",
    "\n",
    "print(x)\n",
    "\n",
    "# print(x)\n",
    "# print(x2)"
   ]
  },
  {
   "cell_type": "code",
   "execution_count": 20,
   "metadata": {},
   "outputs": [
    {
     "name": "stdout",
     "output_type": "stream",
     "text": [
      "[5 1 4 2 3]\n",
      "[1 5 2 3 4]\n"
     ]
    }
   ],
   "source": [
    "# Random Permutations\n",
    "\n",
    "arr = np.array([1, 2, 3, 4, 5])\n",
    "\n",
    "np.random.shuffle(arr)\n",
    "\n",
    "print(arr)\n",
    "print(np.random.permutation(arr))"
   ]
  },
  {
   "cell_type": "code",
   "execution_count": 21,
   "metadata": {},
   "outputs": [
    {
     "name": "stdout",
     "output_type": "stream",
     "text": [
      "[[ 2.22813983  3.74329251  0.95308246]\n",
      " [ 1.23587148 -3.54790172 -0.47013627]]\n"
     ]
    }
   ],
   "source": [
    "# Normal (Gaussian) Distribution\n",
    "# x = np.random.normal(size=(2, 3))\n",
    "x = np.random.normal(loc=1, scale=2, size=(2, 3))\n",
    "\n",
    "print(x)"
   ]
  },
  {
   "cell_type": "code",
   "execution_count": 22,
   "metadata": {},
   "outputs": [
    {
     "name": "stdout",
     "output_type": "stream",
     "text": [
      "[0 1 0 0 1]\n",
      "[[44 92 63]\n",
      " [79 40 88]\n",
      " [60 22 92]]\n"
     ]
    }
   ],
   "source": [
    "# Random Arrays\n",
    "gen = np.random.randint(2, size=5)\n",
    "print(gen)\n",
    "\n",
    "gen2 = np.random.randint(100, size=(3,3))\n",
    "print(gen2)"
   ]
  },
  {
   "cell_type": "code",
   "execution_count": 23,
   "metadata": {},
   "outputs": [
    {
     "name": "stdout",
     "output_type": "stream",
     "text": [
      "[12 15]\n",
      "[ 3  6  9 12 15]\n",
      "[10 10 10 12 15]\n"
     ]
    }
   ],
   "source": [
    "# Boolean Indexing\n",
    "\n",
    "arr = np.array([3, 6, 9, 12, 15])\n",
    "\n",
    "fil_arr = arr > 9\n",
    "print(arr[fil_arr])\n",
    "\n",
    "new_arr = []\n",
    "for i in arr:\n",
    "    if i > 10:\n",
    "        new_arr.append(i)\n",
    "    else: \n",
    "        new_arr.append(10)\n",
    "\n",
    "print(arr)\n",
    "# print(new_arr)\n",
    "x = np.array(new_arr)\n",
    "print(x)"
   ]
  },
  {
   "cell_type": "code",
   "execution_count": 24,
   "metadata": {},
   "outputs": [
    {
     "name": "stdout",
     "output_type": "stream",
     "text": [
      "<numpy.broadcast object at 0x5a9f14de7980>\n"
     ]
    }
   ],
   "source": [
    "x = np.array([[1], [2], [3]])\n",
    "y = np.array([4, 5, 6])\n",
    "b = np.broadcast(x, y)\n",
    "\n",
    "print(b)"
   ]
  },
  {
   "cell_type": "code",
   "execution_count": 25,
   "metadata": {},
   "outputs": [
    {
     "name": "stdout",
     "output_type": "stream",
     "text": [
      "[[19 17 12]\n",
      " [19 14 10]\n",
      " [19  2  6]]\n",
      "[7 1 1]\n",
      "[[26 18 13]\n",
      " [26 15 11]\n",
      " [26  3  7]]\n",
      "[[[1. 2. 3. 4.]\n",
      "  [1. 2. 3. 4.]\n",
      "  [1. 2. 3. 4.]]\n",
      "\n",
      " [[1. 2. 3. 4.]\n",
      "  [1. 2. 3. 4.]\n",
      "  [1. 2. 3. 4.]]]\n"
     ]
    }
   ],
   "source": [
    "# BroadCasting\n",
    "matrix = np.random.randint(20, size=(3,3))\n",
    "one_D = np.random.randint(10, size=3)\n",
    "print(matrix)\n",
    "print(one_D)\n",
    "\n",
    "last = matrix + one_D\n",
    "print(last)\n",
    "\n",
    "\n",
    "array1 = np.ones((2, 3, 4))\n",
    "array2 = np.arange(4)\n",
    "                        \n",
    "# Adding arrays with broadcasting\n",
    "result = array1 + array2\n",
    "print(result)"
   ]
  },
  {
   "cell_type": "code",
   "execution_count": 26,
   "metadata": {},
   "outputs": [
    {
     "name": "stdout",
     "output_type": "stream",
     "text": [
      "[[1 5]\n",
      " [7 7]]\n",
      "[[2 1]\n",
      " [2 3]]\n",
      "[[ 2  5]\n",
      " [14 21]]\n",
      "[[ 3  6]\n",
      " [ 9 10]]\n"
     ]
    }
   ],
   "source": [
    "# Matrix Operations\n",
    "\n",
    "satu = np.random.randint(10, size=(2,2))\n",
    "dua = np.random.randint(5, size=(2,2))\n",
    "\n",
    "print(satu)\n",
    "print(dua)\n",
    "\n",
    "kali = satu * dua\n",
    "print(kali)\n",
    "\n",
    "tambah = satu + dua\n",
    "print(tambah)"
   ]
  },
  {
   "cell_type": "code",
   "execution_count": 27,
   "metadata": {},
   "outputs": [
    {
     "name": "stdout",
     "output_type": "stream",
     "text": [
      "[7 9 4 2 0 6 0 0 2 0]\n",
      "[0 0 0 0 2 2 4 6 7 9]\n",
      "[[0 3 6 1 6]\n",
      " [8 4 4 0 3]\n",
      " [5 2 1 1 4]\n",
      " [5 3 1 8 9]\n",
      " [5 8 8 5 2]]\n",
      "[[0 1 3 6 6]\n",
      " [0 3 4 4 8]\n",
      " [1 1 2 4 5]\n",
      " [1 3 5 8 9]\n",
      " [2 5 5 8 8]]\n"
     ]
    }
   ],
   "source": [
    "# Sorting\n",
    "\n",
    "arr = np.random.randint(10, size=(10))\n",
    "arr2 = np.sort(arr)\n",
    "print(arr)\n",
    "print(arr2)\n",
    "\n",
    "arr = np.random.randint(10, size=(5,5))\n",
    "arr2 = np.sort(arr)\n",
    "\n",
    "print(arr)\n",
    "print(arr2)"
   ]
  },
  {
   "cell_type": "code",
   "execution_count": 28,
   "metadata": {},
   "outputs": [
    {
     "name": "stdout",
     "output_type": "stream",
     "text": [
      "[0.         0.55555556 1.11111111 1.66666667 2.22222222 2.77777778\n",
      " 3.33333333 3.88888889 4.44444444 5.        ]\n",
      "[10 20 30 40 50 60 70 80 90]\n"
     ]
    }
   ],
   "source": [
    "# Use np.linspace and np.arange\n",
    "\n",
    "satu = np.linspace(0, 5, 10)\n",
    "print(satu)\n",
    "\n",
    "dua =  np.arange(10, 100, 10)\n",
    "print(dua)"
   ]
  },
  {
   "cell_type": "code",
   "execution_count": 29,
   "metadata": {},
   "outputs": [
    {
     "name": "stdout",
     "output_type": "stream",
     "text": [
      "b'Hello world!'\n",
      "[[2 2 2]\n",
      " [2 2 2]]\n"
     ]
    }
   ],
   "source": [
    "# NumPy - Array Creation Routines\n",
    "\n",
    "arr = np.array([1,2,3,4,5])\n",
    "\n",
    "arr = np.zeros(5)\n",
    "\n",
    "arr = np.ones(5)\n",
    "\n",
    "arr = np.ones((4,3))\n",
    "\n",
    "arr = np.ones((4,3), order='F')\n",
    "\n",
    "arr = np.arange(1, 10, 2)\n",
    "\n",
    "arr = np.linspace(0, 5, num=10)\n",
    "\n",
    "arr = np.random.rand(5, 5)\n",
    "\n",
    "arr = np.empty((2,3))\n",
    "\n",
    "arr = np.full((2,3),2)\n",
    "\n",
    "my_bytes = b'Hello world!'\n",
    "print(my_bytes)\n",
    "print(arr)"
   ]
  },
  {
   "cell_type": "code",
   "execution_count": 30,
   "metadata": {},
   "outputs": [
    {
     "name": "stdout",
     "output_type": "stream",
     "text": [
      "[[1 2 3]\n",
      " [1 2 3]]\n",
      "[[1 1 1]\n",
      " [2 2 2]]\n"
     ]
    }
   ],
   "source": [
    "# NumPy - Array From Numerical Ranges\n",
    "\n",
    "arr = np.arange(1, 10)\n",
    "\n",
    "arr = np.linspace(1, 10)\n",
    "\n",
    "arr = np.logspace(1, 10, 10, base=2)\n",
    "\n",
    "x = np.arange(1,4)\n",
    "y = np.arange(1,3)\n",
    "\n",
    "# print(x)\n",
    "# print(y)\n",
    "\n",
    "X,Y = np.meshgrid(x,y)\n",
    "\n",
    "print(X)\n",
    "print(Y)\n"
   ]
  },
  {
   "cell_type": "code",
   "execution_count": 31,
   "metadata": {},
   "outputs": [
    {
     "name": "stdout",
     "output_type": "stream",
     "text": [
      "[[2 6 1]\n",
      " [5 8 1]\n",
      " [1 2 2]]\n"
     ]
    }
   ],
   "source": [
    "# Exercise 1\n",
    "\n",
    "arr = np.arange(10)\n",
    "arr = np.random.randint(1, 9, size=(3,3))\n",
    "print(arr)"
   ]
  },
  {
   "cell_type": "code",
   "execution_count": 32,
   "metadata": {},
   "outputs": [
    {
     "name": "stdout",
     "output_type": "stream",
     "text": [
      "(5,)\n",
      "1\n",
      "5\n"
     ]
    }
   ],
   "source": [
    "# Exercise 2\n",
    "\n",
    "arr = [5, 10, 15, 20, 25]\n",
    "arr = np.array(arr)\n",
    "shape_arr = arr.shape\n",
    "dim_arr = arr.ndim\n",
    "size_arr = arr.size\n",
    "\n",
    "\n",
    "print(shape_arr)\n",
    "print(dim_arr)\n",
    "print(size_arr)\n"
   ]
  },
  {
   "cell_type": "code",
   "execution_count": 33,
   "metadata": {},
   "outputs": [
    {
     "name": "stdout",
     "output_type": "stream",
     "text": [
      "5\n",
      "[7 8 9]\n",
      "[3 6 9]\n"
     ]
    }
   ],
   "source": [
    "# Exercise 3\n",
    "\n",
    "arr = np.array([[1, 2, 3],\n",
    "                [4, 5, 6],\n",
    "                [7, 8, 9]])\n",
    "\n",
    "size_arr = arr.size\n",
    "\n",
    "ext_arr = arr[1,1]\n",
    "sec_arr = arr[2]\n",
    "last_arr = arr[:,2]\n",
    "print(ext_arr)\n",
    "print(sec_arr)\n",
    "print(last_arr)\n"
   ]
  },
  {
   "cell_type": "code",
   "execution_count": 34,
   "metadata": {},
   "outputs": [
    {
     "name": "stdout",
     "output_type": "stream",
     "text": [
      "[5 7 9]\n",
      "[2 4 6]\n",
      "32\n"
     ]
    }
   ],
   "source": [
    "# Exercise 4\n",
    "\n",
    "a = np.array([1, 2, 3])\n",
    "b = np.array([4, 5, 6])\n",
    "\n",
    "result = a + b\n",
    "print(result)\n",
    "\n",
    "result2 = a * 2\n",
    "print(result2)\n",
    "\n",
    "\n",
    "result3 = np.dot(a, b)\n",
    "print(result3)"
   ]
  },
  {
   "cell_type": "code",
   "execution_count": 35,
   "metadata": {},
   "outputs": [
    {
     "name": "stdout",
     "output_type": "stream",
     "text": [
      "[[0. 0. 0. 0.]\n",
      " [0. 0. 0. 0.]\n",
      " [0. 0. 0. 0.]\n",
      " [0. 0. 0. 0.]]\n",
      "[[1. 1. 1.]\n",
      " [1. 1. 1.]\n",
      " [1. 1. 1.]]\n"
     ]
    }
   ],
   "source": [
    "# Exercise 5\n",
    "\n",
    "c = np.zeros((4,4))\n",
    "print(c)\n",
    "\n",
    "d = np.ones((3,3))\n",
    "print(d)"
   ]
  },
  {
   "cell_type": "code",
   "execution_count": 36,
   "metadata": {},
   "outputs": [
    {
     "name": "stdout",
     "output_type": "stream",
     "text": [
      "[72.5  73.4  67.64 71.06 68.9  66.02 71.6 ]\n",
      "21.2\n",
      "70.16\n",
      "['Hot' 'Hot' '19.8' 'Hot' '20.5' '18.9' 'Hot']\n"
     ]
    }
   ],
   "source": [
    "# Exercise 6 (case)\n",
    "\n",
    "temperatures = np.array([22.5, 23.0, 19.8, 21.7, 20.5, 18.9, 22.0])\n",
    "\n",
    "def count(c):\n",
    "    res = (c * 9/5) + 32\n",
    "    return res\n",
    "\n",
    "hasil = count(temperatures)\n",
    "avg = np.mean(temperatures)\n",
    "avg2 = np.mean(hasil)\n",
    "identify = np.where(temperatures > 21, 'Hot', temperatures)\n",
    "\n",
    "print(hasil)\n",
    "print(avg)\n",
    "print(avg2)\n",
    "print(identify)\n"
   ]
  },
  {
   "cell_type": "code",
   "execution_count": 37,
   "metadata": {},
   "outputs": [
    {
     "name": "stdout",
     "output_type": "stream",
     "text": [
      "[150.25 152.35 149.9  153.4 ]\n",
      "[152.35 149.9  153.4  151.8 ]\n",
      "[ 1.39767055 -1.60813915  2.33488993 -1.04302477]\n",
      "Max 153.4 and Min 149.9\n",
      "2.334889926617745, with idx 2\n"
     ]
    }
   ],
   "source": [
    "# Exercise 7 (case)\n",
    "\n",
    "\n",
    "prices = np.array([150.25, 152.35, 149.90, 153.40, 151.80])\n",
    "\n",
    "\n",
    "old_prices = prices[:-1]\n",
    "new_price = prices[1:]\n",
    "\n",
    "percentage = (new_price - old_prices) / old_prices * 100\n",
    "\n",
    "prices_max = np.max(prices)\n",
    "prices_min = np.min(prices)\n",
    "\n",
    "percentage_max = np.max(percentage)\n",
    "idx_percentage_max = np.searchsorted(percentage, percentage_max)\n",
    "\n",
    "print(old_prices)\n",
    "print(new_price)\n",
    "print(percentage)\n",
    "print(f\"Max {prices_max} and Min {prices_min}\")\n",
    "print(f\"{percentage_max}, with idx {idx_percentage_max}\")"
   ]
  },
  {
   "cell_type": "code",
   "execution_count": 38,
   "metadata": {},
   "outputs": [
    {
     "name": "stdout",
     "output_type": "stream",
     "text": [
      "583.65\n",
      "83.37857142857142\n",
      "[ 45.5   67.8  120.    35.75  98.5  150.2   65.9 ]\n",
      "[120.   98.5 150.2]\n",
      "[2 4 5]\n"
     ]
    }
   ],
   "source": [
    "# Exercise 8 (case)\n",
    "\n",
    "spending = np.array([45.50, 67.80, 120.00, 35.75, 98.50, 150.20, 65.90])\n",
    "\n",
    "sum = np.sum(spending)\n",
    "avg = np.mean(spending)\n",
    "print(sum)\n",
    "print(avg)\n",
    "find = spending > avg\n",
    "res = spending[find]\n",
    "idx = np.where(np.isin(spending, res))[0]\n",
    "\n",
    "\n",
    "print(spending)\n",
    "print(res)\n",
    "print(idx)\n"
   ]
  },
  {
   "cell_type": "code",
   "execution_count": 47,
   "metadata": {},
   "outputs": [
    {
     "name": "stdout",
     "output_type": "stream",
     "text": [
      "[[150 200 250]\n",
      " [100 125 175]\n",
      " [ 50  75 100]]\n",
      "(array([0, 0, 1]), array([1, 2, 2]))\n",
      "[150 200 125]\n",
      "[[100 150 200]\n",
      " [ 50  75 125]\n",
      " [  0   0  50]]\n"
     ]
    }
   ],
   "source": [
    "# Exercise 9 (case)\n",
    "\n",
    "image = np.array([[100, 150, 200],\n",
    "                  [50, 75, 125],\n",
    "                  [0, 25, 50]])\n",
    "\n",
    "icr = np.where((image + 50) > 255, 255, (image + 50))\n",
    "print(icr)\n",
    "\n",
    "idx = np.where(image > 100)\n",
    "print(idx)\n",
    "val_idx = image[idx]\n",
    "print(val_idx)\n",
    "\n",
    "replace = np.where(image < 50, 0, image)\n",
    "print(replace)\n",
    "\n"
   ]
  },
  {
   "cell_type": "code",
   "execution_count": 61,
   "metadata": {},
   "outputs": [
    {
     "name": "stdout",
     "output_type": "stream",
     "text": [
      "[13000 13800]\n",
      "[2650. 3100. 4050. 3600.]\n",
      "[3250. 3450.]\n",
      "[3 3]\n"
     ]
    }
   ],
   "source": [
    "# Exercise 10 (case)\n",
    "\n",
    "sales = np.array([[2500, 3000, 4000, 3500],  # Year 1\n",
    "                  [2800, 3200, 4100, 3700]]) # Year 2\n",
    "\n",
    "sum = np.sum(sales, axis=1)\n",
    "avg = np.mean(sales, axis=0)\n",
    "avg1 = np.mean(sales, axis=1)\n",
    "highest_max = np.argmax(sales, axis=1)\n",
    "print(sum)\n",
    "print(avg)\n",
    "print(avg1)\n",
    "print(highest_max)\n"
   ]
  },
  {
   "cell_type": "code",
   "execution_count": 72,
   "metadata": {},
   "outputs": [
    {
     "name": "stdout",
     "output_type": "stream",
     "text": [
      "[28 32 50 24 49 33 24 56 40 23 58 44 27 32 35 40 20 24 39 35 53 39 36 54\n",
      " 59 53 63 33 48 32 58 42 19 42 31 22 60 41 27 25 49 41 24 43 48 28 47 20\n",
      " 24 61 29 35 32 52 59 64 34 34 45 60 25 41 21 24 21 65 59 35 42 20 37 51\n",
      " 18 54 57 39 35 35 31 56 50 28 47 44 39 50 59 57 65 42 40 22 23 42 44 43\n",
      " 51 53 49 35]\n",
      "40.28\n",
      "25\n",
      "50\n",
      "25\n"
     ]
    }
   ],
   "source": [
    "# Exercise 11 (case)\n",
    "\n",
    "ages = np.random.randint(18, 66, size=100)\n",
    "\n",
    "print(ages)\n",
    "\n",
    "age_mean = np.mean(ages)\n",
    "print(age_mean)\n",
    "\n",
    "param = (ages >= 18) & (ages <= 30)\n",
    "param2 = (ages >= 31) & (ages <= 50)\n",
    "param3 = (ages >= 51) & (ages <= 65)\n",
    "val = np.count_nonzero(param)\n",
    "val2 = np.count_nonzero(param2)\n",
    "val3 = np.count_nonzero(param3)\n",
    "print(val)\n",
    "print(val2)\n",
    "print(val3)"
   ]
  },
  {
   "cell_type": "code",
   "execution_count": 76,
   "metadata": {},
   "outputs": [
    {
     "name": "stdout",
     "output_type": "stream",
     "text": [
      "[ 81.  100.6  63.2]\n",
      "[14.6 17.3 12. ]\n",
      "[ 8.9 12.5  7.3]\n"
     ]
    }
   ],
   "source": [
    "# Exercise 12 (case)\n",
    "\n",
    "rainfall = np.array([[12.3, 15.2, 8.7],\n",
    "                     [10.5, 13.1, 9.8],\n",
    "                     [14.6, 17.3, 12.0],\n",
    "                     [9.8, 11.2, 6.4],\n",
    "                     [13.2, 16.4, 10.1],\n",
    "                     [11.7, 14.9, 8.9],\n",
    "                     [8.9, 12.5, 7.3]])\n",
    "\n",
    "avg = np.sum(rainfall, axis=0)\n",
    "max = np.max(rainfall, axis=0)\n",
    "least = rainfall[-1]\n",
    "print(avg)\n",
    "print(max)\n",
    "print(least)\n"
   ]
  },
  {
   "cell_type": "code",
   "execution_count": 86,
   "metadata": {},
   "outputs": [
    {
     "name": "stdout",
     "output_type": "stream",
     "text": [
      "[50 77 51 37 80]\n",
      "Max value 80 at index [4]\n",
      "[28 25 30]\n"
     ]
    }
   ],
   "source": [
    "# Exercise 13 (case)\n",
    "\n",
    "scores = np.array([[12, 18, 20],\n",
    "                   [25, 22, 30],\n",
    "                   [15, 19, 17],\n",
    "                   [10, 12, 15],\n",
    "                   [28, 25, 27]])\n",
    "\n",
    "calculate = np.sum(scores, axis=1)\n",
    "max = np.max(calculate)\n",
    "find = np.where(calculate == max)[0]\n",
    "highest_max = np.max(scores, axis=0) \n",
    "print(calculate)\n",
    "print(f\"Max value {max} at index {find}\")\n",
    "print(highest_max)"
   ]
  },
  {
   "cell_type": "code",
   "execution_count": 90,
   "metadata": {},
   "outputs": [
    {
     "name": "stdout",
     "output_type": "stream",
     "text": [
      "[0.5   0.675 0.8   0.875 0.9  ]\n",
      "3.75\n",
      "0.8999999999999999\n"
     ]
    }
   ],
   "source": [
    "# Exercise 14 (case)\n",
    "\n",
    "loan_amounts = np.array([10, 15, 20, 25, 30])\n",
    "interest_rates = np.array([5.0, 4.5, 4.0, 3.5, 3.0])\n",
    "\n",
    "val = loan_amounts * (interest_rates / 100)\n",
    "print(val)\n",
    "sum_val = np.sum(val)\n",
    "print(sum_val)\n",
    "max_val = np.max(val)\n",
    "print(max_val)"
   ]
  },
  {
   "cell_type": "code",
   "execution_count": 101,
   "metadata": {},
   "outputs": [
    {
     "name": "stdout",
     "output_type": "stream",
     "text": [
      "[ 9300 13000 15300]\n",
      "[5000 5200 5100]\n",
      "4177.777777777777\n"
     ]
    }
   ],
   "source": [
    "# Exercise 15 (case)\n",
    "salaries = np.array([[3000, 3200, 3100],  # Department 1\n",
    "                     [4500, 4300, 4200],  # Department 2\n",
    "                     [5000, 5200, 5100]]) # Department 3\n",
    "\n",
    "\n",
    "calculate = np.sum(salaries, axis=1)\n",
    "max_payment = np.max(salaries, axis=0)\n",
    "print(calculate)\n",
    "print(max_payment)\n",
    "avg_payment = np.mean(salaries)\n",
    "print(avg_payment)"
   ]
  }
 ],
 "metadata": {
  "kernelspec": {
   "display_name": "Python 3",
   "language": "python",
   "name": "python3"
  },
  "language_info": {
   "codemirror_mode": {
    "name": "ipython",
    "version": 3
   },
   "file_extension": ".py",
   "mimetype": "text/x-python",
   "name": "python",
   "nbconvert_exporter": "python",
   "pygments_lexer": "ipython3",
   "version": "3.10.12"
  }
 },
 "nbformat": 4,
 "nbformat_minor": 2
}
